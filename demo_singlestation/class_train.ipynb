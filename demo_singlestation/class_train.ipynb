{
 "cells": [
  {
   "cell_type": "code",
   "execution_count": 1,
   "metadata": {},
   "outputs": [],
   "source": [
    "\"\"\" Trainer for pretrain phase. \"\"\"\n",
    "import os.path as osp\n",
    "import os\n",
    "import numpy as np\n",
    "import tqdm\n",
    "import datetime\n",
    "import torch\n",
    "import torch.nn as nn\n",
    "from torch.utils.data import DataLoader\n",
    "\n",
    "\n",
    "#from loss.loss import Dice_Loss, Focal_Loss\n",
    "from utils.misc import Averager, Timer\n",
    "from Network_torch import *\n",
    "from tensorboardX import SummaryWriter\n",
    "import matplotlib.pyplot as plt\n",
    "from Training import *\n"
   ]
  },
  {
   "cell_type": "code",
   "execution_count": 2,
   "metadata": {},
   "outputs": [],
   "source": [
    "import argparse\n",
    "\n",
    "if __name__ == '__main__':\n",
    "    parser = argparse.ArgumentParser()\n",
    "\n",
    "    # Basic parameters\n",
    "    parser.add_argument('--model_type', type=str, default='VGGDepthSingle256', choices=['VGGDepthSingle256_epi','VGGDepth','VGGDepthSingle','VGGDepthSingle256','VGGDepth1','VGGDepth1024', 'VGGDepth256','VGG16Attention','UNetDepth']) # The network architecture\n",
    "    parser.add_argument('--loss_type', type=str, default='BCE', choices=['BCE', 'MSE','BCEWithLogits','Focal','Dice','CE']) # The loss function    \n",
    "\n",
    "    # parser.add_argument('--phase', type=str, default='pre_train', choices=['pre_train', 'fine_tune', 'testing', 'testing_old']) # Phase    \n",
    "    parser.add_argument('--ref_type', type=str, default='Constant', choices=['Constant','Reference'])# The Reference Velocity Type\n",
    "    # parser.add_argument('--ref_num', type=int, default=6)# The Reference Velocity Number\n",
    "    # parser.add_argument('--seed', type=int, default=0) # Manual seed for PyTorch, \"0\" means using random seed\n",
    "    # parser.add_argument('--gpu', default='0') # GPU id\n",
    "    parser.add_argument('--num_workers', type=int, default=1) # Number of CPU cores used for data loading\n",
    " \n",
    "    \n",
    "    # parser.add_argument('--Predthre', type=float, default=0.1)\n",
    "   \n",
    "    # # Parameters for pretain phase\n",
    "    parser.add_argument('--pre_dataset_dir', type=str, default='./training_data')# The pre-trained dataset folder\n",
    "    parser.add_argument('--pre_input_data', type=str, default='CESI_input.hdf5')\n",
    "    parser.add_argument('--pre_label_data', type=str, default='CESI_label.hdf5')\n",
    "    parser.add_argument('--pre_Valid_input_data', type=str, default='CESI_val_input.hdf5')\n",
    "    parser.add_argument('--pre_Valid_label_data', type=str, default='CESI_val_label.hdf5')\n",
    "    parser.add_argument('--pre_dataset_name', type=str, default='Depth_vgg_BCE_43849_single_network_256_PSdiff1.7_CESI') # The pre-trained dataset\n",
    "    # parser.add_argument('--pre_dataset', type=str, default='COCO') # The pre-trained dataset\n",
    "    # parser.add_argument('--pre_dataset_ver', type=str, default='COCO') # The pre-trained dataset version\n",
    "    parser.add_argument('--pre_max_epoch', type=int, default=1) # Epoch number for pre-train phase\n",
    "    parser.add_argument('--pre_batch_size', type=int, default=128) # Batch size for pre-train phase\n",
    "    parser.add_argument('--pre_lr', type=float, default=0.0001) # Learning rate for pre-train phase\n",
    "    parser.add_argument('--pre_gamma', type=float, default=0.5) # Gamma for the pre-train learning rate decay\n",
    "    parser.add_argument('--pre_step_size', type=int, default=40) # The number of epochs to reduce the pre-train learning rate\n",
    "    parser.add_argument('--In_channels', type=int, default=1) # The number of epochs to reduce the pre-train learning rate\n",
    "    parser.add_argument('--Out_channels', type=int, default=256) # [64,1,1] The number of epochs to reduce the pre-train learning rate\n",
    "    parser.add_argument('--pre_optimizer', type=str, default='Adam', choices=['Adam', 'sgd']) # optimizer for pre-train phase\n",
    "    parser.add_argument('--pre_custom_momentum', type=float, default=0.9) # Momentum for the optimizer during pre-train    \n",
    "    parser.add_argument('--pre_custom_weight_decay', type=float, default=0.0005) # Weight decay for the optimizer during pre-train\n",
    "    parser.add_argument('--pre_init_weights', type=str, default=None)# The pre-trained weights for pre-train phase\n",
    "    #parser.add_argument('--pre_init_weights', type=str, default='logs/train/Depth_vgg_BCE_43849_single_network_256_PSdiff1.7_IVYR_noED23_new_07-24_18-51_lr0.0001_batch128/model/pre_epoch_170.pth')# The pre-trained weights for pre-train phase\n",
    "    parser.add_argument('--pre_val_epoch', type=int, default=3) # The epoch interval for validation\n",
    "    # parser.add_argument('--pre_early_stop', type=int, default=10) # The number of epochs to early stop during pre-train\n",
    "    # parser.add_argument('--pre_early_stop_type', type=str, default='loss', choices=['loss','VMAE'])# The pre-trained weights for pre-train phase\n",
    "    # parser.add_argument('--pre_dt', type=float, default=2, help='dt of the dataset, Unit: ms')\n",
    "    # parser.add_argument('--pre_nt', type=int, default=1505, help='number of time sampling points')\n",
    "    args = parser.parse_args([])\n",
    "\n",
    "    # 在这里可以使用 args 来访问解析后的参数_' +"
   ]
  },
  {
   "cell_type": "markdown",
   "metadata": {},
   "source": [
    "### Single Station Depth prediction"
   ]
  },
  {
   "cell_type": "code",
   "execution_count": 3,
   "metadata": {},
   "outputs": [
    {
     "name": "stderr",
     "output_type": "stream",
     "text": [
      "Epoch 1/1, Loss 0.188032: 100%|██████████| 252/252 [00:16<00:00, 15.69it/s]"
     ]
    },
    {
     "name": "stdout",
     "output_type": "stream",
     "text": [
      "Epoch 1/1, Train: Loss=0.212774\n",
      "Running Time: 16s, Estimated Time: 16s\n",
      "Training Finished! Running Time: 16s\n"
     ]
    },
    {
     "name": "stderr",
     "output_type": "stream",
     "text": [
      "\n"
     ]
    }
   ],
   "source": [
    "instance = SingleStationDepthTrainLearner(args)   # Create an instance of the class\n",
    "train = instance.train()  # Start training"
   ]
  }
 ],
 "metadata": {
  "kernelspec": {
   "display_name": "base",
   "language": "python",
   "name": "python3"
  },
  "language_info": {
   "codemirror_mode": {
    "name": "ipython",
    "version": 3
   },
   "file_extension": ".py",
   "mimetype": "text/x-python",
   "name": "python",
   "nbconvert_exporter": "python",
   "pygments_lexer": "ipython3",
   "version": "3.9.7"
  }
 },
 "nbformat": 4,
 "nbformat_minor": 2
}
